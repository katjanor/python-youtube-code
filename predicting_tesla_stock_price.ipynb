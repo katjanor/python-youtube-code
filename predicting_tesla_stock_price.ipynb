{
  "nbformat": 4,
  "nbformat_minor": 0,
  "metadata": {
    "kernelspec": {
      "display_name": "Python 3",
      "language": "python",
      "name": "python3"
    },
    "language_info": {
      "codemirror_mode": {
        "name": "ipython",
        "version": 3
      },
      "file_extension": ".py",
      "mimetype": "text/x-python",
      "name": "python",
      "nbconvert_exporter": "python",
      "pygments_lexer": "ipython3",
      "version": "3.7.4"
    },
    "colab": {
      "name": "predicting-tesla-stock-price.ipynb",
      "provenance": [],
      "include_colab_link": true
    }
  },
  "cells": [
    {
      "cell_type": "markdown",
      "metadata": {
        "id": "view-in-github",
        "colab_type": "text"
      },
      "source": [
        "<a href=\"https://colab.research.google.com/github/katjanor/python-youtube-code/blob/master/predicting_tesla_stock_price.ipynb\" target=\"_parent\"><img src=\"https://colab.research.google.com/assets/colab-badge.svg\" alt=\"Open In Colab\"/></a>"
      ]
    },
    {
      "cell_type": "code",
      "metadata": {
        "id": "hTFVxgllJQx6"
      },
      "source": [
        "# Importing modules\n",
        "import numpy as np \n",
        "import pandas as pd\n",
        "import matplotlib.pyplot as plt\n",
        "import datetime"
      ],
      "execution_count": 51,
      "outputs": []
    },
    {
      "cell_type": "code",
      "metadata": {
        "id": "hRpEgXCuJQyA"
      },
      "source": [
        "# Reading in the data\n",
        "tesla = pd.read_csv('TSLA.csv')"
      ],
      "execution_count": 52,
      "outputs": []
    },
    {
      "cell_type": "code",
      "metadata": {
        "colab": {
          "base_uri": "https://localhost:8080/",
          "height": 204
        },
        "id": "_ej94gfhJQyB",
        "outputId": "a455a751-9e67-4ff7-8b1d-0b953ce9ac6b"
      },
      "source": [
        "tesla.head()"
      ],
      "execution_count": 53,
      "outputs": [
        {
          "output_type": "execute_result",
          "data": {
            "text/html": [
              "<div>\n",
              "<style scoped>\n",
              "    .dataframe tbody tr th:only-of-type {\n",
              "        vertical-align: middle;\n",
              "    }\n",
              "\n",
              "    .dataframe tbody tr th {\n",
              "        vertical-align: top;\n",
              "    }\n",
              "\n",
              "    .dataframe thead th {\n",
              "        text-align: right;\n",
              "    }\n",
              "</style>\n",
              "<table border=\"1\" class=\"dataframe\">\n",
              "  <thead>\n",
              "    <tr style=\"text-align: right;\">\n",
              "      <th></th>\n",
              "      <th>Date</th>\n",
              "      <th>Open</th>\n",
              "      <th>High</th>\n",
              "      <th>Low</th>\n",
              "      <th>Close</th>\n",
              "      <th>Adj Close</th>\n",
              "      <th>Volume</th>\n",
              "    </tr>\n",
              "  </thead>\n",
              "  <tbody>\n",
              "    <tr>\n",
              "      <th>0</th>\n",
              "      <td>2010-06-29</td>\n",
              "      <td>19.000000</td>\n",
              "      <td>25.00</td>\n",
              "      <td>17.540001</td>\n",
              "      <td>23.889999</td>\n",
              "      <td>23.889999</td>\n",
              "      <td>18766300</td>\n",
              "    </tr>\n",
              "    <tr>\n",
              "      <th>1</th>\n",
              "      <td>2010-06-30</td>\n",
              "      <td>25.790001</td>\n",
              "      <td>30.42</td>\n",
              "      <td>23.299999</td>\n",
              "      <td>23.830000</td>\n",
              "      <td>23.830000</td>\n",
              "      <td>17187100</td>\n",
              "    </tr>\n",
              "    <tr>\n",
              "      <th>2</th>\n",
              "      <td>2010-07-01</td>\n",
              "      <td>25.000000</td>\n",
              "      <td>25.92</td>\n",
              "      <td>20.270000</td>\n",
              "      <td>21.959999</td>\n",
              "      <td>21.959999</td>\n",
              "      <td>8218800</td>\n",
              "    </tr>\n",
              "    <tr>\n",
              "      <th>3</th>\n",
              "      <td>2010-07-02</td>\n",
              "      <td>23.000000</td>\n",
              "      <td>23.10</td>\n",
              "      <td>18.709999</td>\n",
              "      <td>19.200001</td>\n",
              "      <td>19.200001</td>\n",
              "      <td>5139800</td>\n",
              "    </tr>\n",
              "    <tr>\n",
              "      <th>4</th>\n",
              "      <td>2010-07-06</td>\n",
              "      <td>20.000000</td>\n",
              "      <td>20.00</td>\n",
              "      <td>15.830000</td>\n",
              "      <td>16.110001</td>\n",
              "      <td>16.110001</td>\n",
              "      <td>6866900</td>\n",
              "    </tr>\n",
              "  </tbody>\n",
              "</table>\n",
              "</div>"
            ],
            "text/plain": [
              "         Date       Open   High        Low      Close  Adj Close    Volume\n",
              "0  2010-06-29  19.000000  25.00  17.540001  23.889999  23.889999  18766300\n",
              "1  2010-06-30  25.790001  30.42  23.299999  23.830000  23.830000  17187100\n",
              "2  2010-07-01  25.000000  25.92  20.270000  21.959999  21.959999   8218800\n",
              "3  2010-07-02  23.000000  23.10  18.709999  19.200001  19.200001   5139800\n",
              "4  2010-07-06  20.000000  20.00  15.830000  16.110001  16.110001   6866900"
            ]
          },
          "metadata": {
            "tags": []
          },
          "execution_count": 53
        }
      ]
    },
    {
      "cell_type": "code",
      "metadata": {
        "id": "BcFoRBHMJQyC"
      },
      "source": [
        "# Isolating the date and close price\n",
        "tesla = tesla[['Date', 'Close']]"
      ],
      "execution_count": 54,
      "outputs": []
    },
    {
      "cell_type": "code",
      "metadata": {
        "id": "lRmCK8s0JQyC",
        "colab": {
          "base_uri": "https://localhost:8080/",
          "height": 204
        },
        "outputId": "0971a749-8442-4c45-cfd3-2d2c806efb00"
      },
      "source": [
        "tesla.head()"
      ],
      "execution_count": 55,
      "outputs": [
        {
          "output_type": "execute_result",
          "data": {
            "text/html": [
              "<div>\n",
              "<style scoped>\n",
              "    .dataframe tbody tr th:only-of-type {\n",
              "        vertical-align: middle;\n",
              "    }\n",
              "\n",
              "    .dataframe tbody tr th {\n",
              "        vertical-align: top;\n",
              "    }\n",
              "\n",
              "    .dataframe thead th {\n",
              "        text-align: right;\n",
              "    }\n",
              "</style>\n",
              "<table border=\"1\" class=\"dataframe\">\n",
              "  <thead>\n",
              "    <tr style=\"text-align: right;\">\n",
              "      <th></th>\n",
              "      <th>Date</th>\n",
              "      <th>Close</th>\n",
              "    </tr>\n",
              "  </thead>\n",
              "  <tbody>\n",
              "    <tr>\n",
              "      <th>0</th>\n",
              "      <td>2010-06-29</td>\n",
              "      <td>23.889999</td>\n",
              "    </tr>\n",
              "    <tr>\n",
              "      <th>1</th>\n",
              "      <td>2010-06-30</td>\n",
              "      <td>23.830000</td>\n",
              "    </tr>\n",
              "    <tr>\n",
              "      <th>2</th>\n",
              "      <td>2010-07-01</td>\n",
              "      <td>21.959999</td>\n",
              "    </tr>\n",
              "    <tr>\n",
              "      <th>3</th>\n",
              "      <td>2010-07-02</td>\n",
              "      <td>19.200001</td>\n",
              "    </tr>\n",
              "    <tr>\n",
              "      <th>4</th>\n",
              "      <td>2010-07-06</td>\n",
              "      <td>16.110001</td>\n",
              "    </tr>\n",
              "  </tbody>\n",
              "</table>\n",
              "</div>"
            ],
            "text/plain": [
              "         Date      Close\n",
              "0  2010-06-29  23.889999\n",
              "1  2010-06-30  23.830000\n",
              "2  2010-07-01  21.959999\n",
              "3  2010-07-02  19.200001\n",
              "4  2010-07-06  16.110001"
            ]
          },
          "metadata": {
            "tags": []
          },
          "execution_count": 55
        }
      ]
    },
    {
      "cell_type": "code",
      "metadata": {
        "id": "sbMSRgbZJQyC"
      },
      "source": [
        "# Converting the date series to a datetime object\n",
        "tesla.Date = pd.to_datetime(tesla.Date, format = '%Y/%m/%d')"
      ],
      "execution_count": 56,
      "outputs": []
    },
    {
      "cell_type": "code",
      "metadata": {
        "id": "b-En3UoWJQyD"
      },
      "source": [
        "# Setting the index \n",
        "plot_tesla = tesla.set_index('Date')"
      ],
      "execution_count": 57,
      "outputs": []
    },
    {
      "cell_type": "markdown",
      "metadata": {
        "id": "W91wh_4DJQyD"
      },
      "source": [
        "# Plot of the Tesla stock price dataset"
      ]
    },
    {
      "cell_type": "code",
      "metadata": {
        "colab": {
          "base_uri": "https://localhost:8080/",
          "height": 384
        },
        "id": "QsAXuFZzJQyD",
        "outputId": "c25a6a6d-07ea-490f-d41b-cc53303c6e74"
      },
      "source": [
        "plot_tesla['Close'].plot(figsize=(16,6))"
      ],
      "execution_count": 58,
      "outputs": [
        {
          "output_type": "execute_result",
          "data": {
            "text/plain": [
              "<matplotlib.axes._subplots.AxesSubplot at 0x7f2f2ba6b5d0>"
            ]
          },
          "metadata": {
            "tags": []
          },
          "execution_count": 58
        },
        {
          "output_type": "display_data",
          "data": {
            "image/png": "[encoded data removed]",
            "text/plain": [
              "<Figure size 1152x432 with 1 Axes>"
            ]
          },
          "metadata": {
            "tags": [],
            "needs_background": "light"
          }
        }
      ]
    },
    {
      "cell_type": "markdown",
      "metadata": {
        "id": "NecGnoN_JQyD"
      },
      "source": [
        "# Selecting the portion of dataset we want to predict\n",
        "Upon visual inspection, the time series is roughly stationary from the period of 2014 through the end of 2016, so let's reduce the dataset to 2014 through 2016. Stationarity means that the time series has a constant mean and variance over a certain time horizon. \n",
        "\n",
        "Start date: 1/1/14 -> index = 884\n",
        "\n",
        "End date: 12/31/16 -> index = 1639"
      ]
    },
    {
      "cell_type": "code",
      "metadata": {
        "id": "Nd75kXosZkDB"
      },
      "source": [
        "start_date = '2011-01-01'\n",
        "new_tesla = tesla[tesla['Date'] >= start_date]"
      ],
      "execution_count": 59,
      "outputs": []
    },
    {
      "cell_type": "code",
      "metadata": {
        "colab": {
          "base_uri": "https://localhost:8080/",
          "height": 391
        },
        "id": "4glP5QUHaDGY",
        "outputId": "0e0d178f-cce5-4b03-8713-e6743a96c3bb"
      },
      "source": [
        "new_tesla['Close'].plot(figsize=(16,6))"
      ],
      "execution_count": 60,
      "outputs": [
        {
          "output_type": "execute_result",
          "data": {
            "text/plain": [
              "<matplotlib.axes._subplots.AxesSubplot at 0x7f2f2ba5a150>"
            ]
          },
          "metadata": {
            "tags": []
          },
          "execution_count": 60
        },
        {
          "output_type": "display_data",
          "data": {
            "image/png": "[encoded data removed]",
            "text/plain": [
              "<Figure size 1152x432 with 1 Axes>"
            ]
          },
          "metadata": {
            "tags": [],
            "needs_background": "light"
          }
        }
      ]
    },
    {
      "cell_type": "code",
      "metadata": {
        "id": "k9FgS3RyJQyE"
      },
      "source": [
        "#new_tesla = tesla.loc[884:1639]\n",
        "#new_tesla = tesla.loc[1640:]"
      ],
      "execution_count": null,
      "outputs": []
    },
    {
      "cell_type": "code",
      "metadata": {
        "colab": {
          "base_uri": "https://localhost:8080/",
          "height": 204
        },
        "id": "_a429JAEJQyE",
        "outputId": "1b1b42ab-12c8-48bc-cf53-e803d3fb1e75"
      },
      "source": [
        "new_tesla.head()"
      ],
      "execution_count": null,
      "outputs": [
        {
          "output_type": "execute_result",
          "data": {
            "text/html": [
              "<div>\n",
              "<style scoped>\n",
              "    .dataframe tbody tr th:only-of-type {\n",
              "        vertical-align: middle;\n",
              "    }\n",
              "\n",
              "    .dataframe tbody tr th {\n",
              "        vertical-align: top;\n",
              "    }\n",
              "\n",
              "    .dataframe thead th {\n",
              "        text-align: right;\n",
              "    }\n",
              "</style>\n",
              "<table border=\"1\" class=\"dataframe\">\n",
              "  <thead>\n",
              "    <tr style=\"text-align: right;\">\n",
              "      <th></th>\n",
              "      <th>Date</th>\n",
              "      <th>Close</th>\n",
              "    </tr>\n",
              "  </thead>\n",
              "  <tbody>\n",
              "    <tr>\n",
              "      <th>2142</th>\n",
              "      <td>2019-01-02</td>\n",
              "      <td>310.119995</td>\n",
              "    </tr>\n",
              "    <tr>\n",
              "      <th>2143</th>\n",
              "      <td>2019-01-03</td>\n",
              "      <td>300.359985</td>\n",
              "    </tr>\n",
              "    <tr>\n",
              "      <th>2144</th>\n",
              "      <td>2019-01-04</td>\n",
              "      <td>317.690002</td>\n",
              "    </tr>\n",
              "    <tr>\n",
              "      <th>2145</th>\n",
              "      <td>2019-01-07</td>\n",
              "      <td>334.959991</td>\n",
              "    </tr>\n",
              "    <tr>\n",
              "      <th>2146</th>\n",
              "      <td>2019-01-08</td>\n",
              "      <td>335.350006</td>\n",
              "    </tr>\n",
              "  </tbody>\n",
              "</table>\n",
              "</div>"
            ],
            "text/plain": [
              "           Date       Close\n",
              "2142 2019-01-02  310.119995\n",
              "2143 2019-01-03  300.359985\n",
              "2144 2019-01-04  317.690002\n",
              "2145 2019-01-07  334.959991\n",
              "2146 2019-01-08  335.350006"
            ]
          },
          "metadata": {
            "tags": []
          },
          "execution_count": 13
        }
      ]
    },
    {
      "cell_type": "code",
      "metadata": {
        "colab": {
          "base_uri": "https://localhost:8080/",
          "height": 204
        },
        "id": "FM9h6HbEJQyE",
        "outputId": "fc9eca56-1913-4cd3-a155-ba7086d29beb"
      },
      "source": [
        "new_tesla.tail()"
      ],
      "execution_count": null,
      "outputs": [
        {
          "output_type": "execute_result",
          "data": {
            "text/html": [
              "<div>\n",
              "<style scoped>\n",
              "    .dataframe tbody tr th:only-of-type {\n",
              "        vertical-align: middle;\n",
              "    }\n",
              "\n",
              "    .dataframe tbody tr th {\n",
              "        vertical-align: top;\n",
              "    }\n",
              "\n",
              "    .dataframe thead th {\n",
              "        text-align: right;\n",
              "    }\n",
              "</style>\n",
              "<table border=\"1\" class=\"dataframe\">\n",
              "  <thead>\n",
              "    <tr style=\"text-align: right;\">\n",
              "      <th></th>\n",
              "      <th>Date</th>\n",
              "      <th>Close</th>\n",
              "    </tr>\n",
              "  </thead>\n",
              "  <tbody>\n",
              "    <tr>\n",
              "      <th>2411</th>\n",
              "      <td>2020-01-28</td>\n",
              "      <td>566.900024</td>\n",
              "    </tr>\n",
              "    <tr>\n",
              "      <th>2412</th>\n",
              "      <td>2020-01-29</td>\n",
              "      <td>580.989990</td>\n",
              "    </tr>\n",
              "    <tr>\n",
              "      <th>2413</th>\n",
              "      <td>2020-01-30</td>\n",
              "      <td>640.809998</td>\n",
              "    </tr>\n",
              "    <tr>\n",
              "      <th>2414</th>\n",
              "      <td>2020-01-31</td>\n",
              "      <td>650.570007</td>\n",
              "    </tr>\n",
              "    <tr>\n",
              "      <th>2415</th>\n",
              "      <td>2020-02-03</td>\n",
              "      <td>780.000000</td>\n",
              "    </tr>\n",
              "  </tbody>\n",
              "</table>\n",
              "</div>"
            ],
            "text/plain": [
              "           Date       Close\n",
              "2411 2020-01-28  566.900024\n",
              "2412 2020-01-29  580.989990\n",
              "2413 2020-01-30  640.809998\n",
              "2414 2020-01-31  650.570007\n",
              "2415 2020-02-03  780.000000"
            ]
          },
          "metadata": {
            "tags": []
          },
          "execution_count": 14
        }
      ]
    },
    {
      "cell_type": "markdown",
      "metadata": {
        "id": "d6VC2I7MJQyE"
      },
      "source": [
        "# Feature Preprocessing\n",
        "Below, we apply a min-max scaler to the dataset, and then convert it to a supervised learning problem. Basically, you can visualize the conversion in terms of a \"sliding window\", that divides the dataset into many different windows of length 20 days, that allow us to predict the 21st day. As the window slides from left to right, we are able to use a LSTM model to predict a \"future\" day from 20 preceding days.\n",
        "\n",
        "## Min-max Scaling and Train/Test Split"
      ]
    },
    {
      "cell_type": "code",
      "metadata": {
        "id": "lC7B8zHxJQyF"
      },
      "source": [
        "new_tesla = new_tesla.drop('Date', axis = 1)\n",
        "new_tesla = new_tesla.reset_index(drop = True)\n",
        "new_tesla.head()\n",
        "T = new_tesla.values\n",
        "T = T.astype('float32')\n",
        "T = np.reshape(T, (-1, 1))"
      ],
      "execution_count": 61,
      "outputs": []
    },
    {
      "cell_type": "code",
      "metadata": {
        "id": "opimxK0AJQyF"
      },
      "source": [
        "from sklearn.preprocessing import MinMaxScaler\n",
        "\n",
        "scaler = MinMaxScaler(feature_range = (0, 1))\n",
        "T = scaler.fit_transform(T)\n",
        "\n",
        "# 80-20 split\n",
        "train_size = int(len(T) * 0.80)\n",
        "test_size = int(len(T) - train_size)\n",
        "train, test = T[0:train_size,:], T[train_size:len(T),:]"
      ],
      "execution_count": 62,
      "outputs": []
    },
    {
      "cell_type": "code",
      "metadata": {
        "id": "NuXCKmCkJQyF"
      },
      "source": [
        "# Method for create features from the time series data\n",
        "def create_features(data, window_size):\n",
        "    X, Y = [], []\n",
        "    for i in range(len(data) - window_size - 1):\n",
        "        window = data[i:(i + window_size), 0]\n",
        "        X.append(window)\n",
        "        Y.append(data[i + window_size, 0])\n",
        "    return np.array(X), np.array(Y)\n",
        "\n",
        "# Roughly one month of trading assuming 5 trading days per week\n",
        "window_size = 20\n",
        "X_train, Y_train = create_features(train, window_size)\n",
        "\n",
        "X_test, Y_test = create_features(test, window_size)\n",
        "\n",
        "# Reshape to the format of [samples, time steps, features]\n",
        "X_train = np.reshape(X_train, (X_train.shape[0], 1, X_train.shape[1]))\n",
        "\n",
        "X_test = np.reshape(X_test, (X_test.shape[0], 1, X_test.shape[1]))"
      ],
      "execution_count": 63,
      "outputs": []
    },
    {
      "cell_type": "code",
      "metadata": {
        "colab": {
          "base_uri": "https://localhost:8080/"
        },
        "id": "xqiDvWroJQyF",
        "outputId": "8285f414-9f13-4633-e615-96cc55b646cf"
      },
      "source": [
        "# Checking to make sure that none of our training set is leaking into the testing set\n",
        "T_shape = T.shape\n",
        "train_shape = train.shape\n",
        "test_shape = test.shape\n",
        "\n",
        "# Make sure that the number of rows in the dataset = train rows + test rows\n",
        "def isLeak(T_shape, train_shape, test_shape):\n",
        "    return not(T_shape[0] == (train_shape[0] + test_shape[0]))\n",
        "\n",
        "print(isLeak(T_shape, train_shape, test_shape))"
      ],
      "execution_count": 64,
      "outputs": [
        {
          "output_type": "stream",
          "text": [
            "False\n"
          ],
          "name": "stdout"
        }
      ]
    },
    {
      "cell_type": "code",
      "metadata": {
        "colab": {
          "base_uri": "https://localhost:8080/",
          "height": 171
        },
        "id": "wYD5nCb1GeAX",
        "outputId": "dff5f472-cfd2-4d9a-c4bd-73985bc3aa25"
      },
      "source": [
        "\"\"\"\n",
        "len(T) # T - price at closing time. len(T) = 756\n",
        "# T_shape #(756, 1)\n",
        "len(train) # 604\n",
        "len(test)  #152\n",
        "len(train) - window_size - 1 #583\n",
        "len(test) - window_size - 1 #131\n",
        "\n",
        "len(X_test) #= len(Y_test) # 131\n",
        "len(X_train) #= len(Y_train) #583\n",
        "(X_train.shape[0]) #583\n",
        "(X_train.shape[1]) #20\n",
        "\n",
        "\n",
        "def create_features(data, window_size):\n",
        "    X, Y = [], []\n",
        "    for i in range(len(data) - window_size - 1):\n",
        "        window = data[i:(i + window_size), 0]\n",
        "        X.append(window)\n",
        "        Y.append(data[i + window_size, 0])\n",
        "    return np.array(X), np.array(Y)\n",
        "\n",
        "# Roughly one month of trading assuming 5 trading days per week\n",
        "window_size = 20\n",
        "data = train\n",
        "\n",
        "X_train, Y_train = create_features(train, window_size)\n",
        "\n",
        "X_test, Y_test = create_features(test, window_size)\n",
        "X_train = np.reshape(X_train, (X_train.shape[0], 1, X_train.shape[1]))\n",
        "print('X_train.shape[0]', X_train.shape[0]) #583\n",
        "print('X_train.shape[1]', X_train.shape[1]) #1\n",
        "print('X_train.shape[2]', X_train.shape[2]) #20\n",
        "\n",
        "\n",
        "X_test = np.reshape(X_test, (X_test.shape[0], 1, X_test.shape[1]))\n",
        "\n",
        "print('X_test.shape[0]', X_test.shape[0]) #131\n",
        "print('X_test.shape[1]', X_test.shape[1]) #1\n",
        "print('X_test.shape[2]', X_test.shape[2]) #20\n",
        "\"\"\""
      ],
      "execution_count": null,
      "outputs": [
        {
          "output_type": "execute_result",
          "data": {
            "application/vnd.google.colaboratory.intrinsic+json": {
              "type": "string"
            },
            "text/plain": [
              "\"\\nlen(T) # T - price at closing time. len(T) = 756\\n# T_shape #(756, 1)\\nlen(train) # 604\\nlen(test)  #152\\nlen(train) - window_size - 1 #583\\nlen(test) - window_size - 1 #131\\n\\nlen(X_test) #= len(Y_test) # 131\\nlen(X_train) #= len(Y_train) #583\\n(X_train.shape[0]) #583\\n(X_train.shape[1]) #20\\n\\n\\ndef create_features(data, window_size):\\n    X, Y = [], []\\n    for i in range(len(data) - window_size - 1):\\n        window = data[i:(i + window_size), 0]\\n        X.append(window)\\n        Y.append(data[i + window_size, 0])\\n    return np.array(X), np.array(Y)\\n\\n# Roughly one month of trading assuming 5 trading days per week\\nwindow_size = 20\\ndata = train\\n\\nX_train, Y_train = create_features(train, window_size)\\n\\nX_test, Y_test = create_features(test, window_size)\\nX_train = np.reshape(X_train, (X_train.shape[0], 1, X_train.shape[1]))\\nprint('X_train.shape[0]', X_train.shape[0]) #583\\nprint('X_train.shape[1]', X_train.shape[1]) #1\\nprint('X_train.shape[2]', X_train.shape[2]) #20\\n\\n\\nX_test = np.reshape(X_test, (X_test.shape[0], 1, X_test.shape[1]))\\n\\nprint('X_test.shape[0]', X_test.shape[0]) #131\\nprint('X_test.shape[1]', X_test.shape[1]) #1\\nprint('X_test.shape[2]', X_test.shape[2]) #20\\n\""
            ]
          },
          "metadata": {
            "tags": []
          },
          "execution_count": 19
        }
      ]
    },
    {
      "cell_type": "code",
      "metadata": {
        "id": "MOVH1wGPJQyG"
      },
      "source": [
        "# Model imports\n",
        "import tensorflow as tf\n",
        "from keras.models import Sequential\n",
        "from keras.layers import Dense\n",
        "from keras.layers import LSTM\n",
        "from keras.layers import Dropout"
      ],
      "execution_count": 65,
      "outputs": []
    },
    {
      "cell_type": "code",
      "metadata": {
        "id": "BEAJN6woMRns"
      },
      "source": [
        "from keras.callbacks import ModelCheckpoint"
      ],
      "execution_count": 66,
      "outputs": []
    },
    {
      "cell_type": "code",
      "metadata": {
        "id": "jskzvT9SJQyG"
      },
      "source": [
        "# Setting seed for reproducibility \n",
        "tf.random.set_seed(11)\n",
        "np.random.seed(11)"
      ],
      "execution_count": 67,
      "outputs": []
    },
    {
      "cell_type": "markdown",
      "metadata": {
        "id": "CBFBcof-JQyG"
      },
      "source": [
        "# Building the  LSTM RNN Model\n",
        "Below, we build a LSTM model that consists of one LSTM layer with a density of 50 neurons and a RELU activation function, as well as a Dropout regularization layer. We add a model checkpoint that is looking to minimize the validation set's loss. We save each model that consists of a lower validation loss compared to any model that came before it."
      ]
    },
    {
      "cell_type": "code",
      "metadata": {
        "id": "AyWnHuyMJQyG"
      },
      "source": [
        "# Building model\n",
        "model = Sequential()\n",
        "\n",
        "model.add(LSTM(units = 50, activation = 'relu', #return_sequences = True, \n",
        "               input_shape = (X_train.shape[1], window_size)))\n",
        "model.add(Dropout(0.2))\n",
        "\n",
        "model.add(Dense(1, activation = 'linear'))\n",
        "model.compile(loss = 'mean_squared_error', optimizer = 'adam')"
      ],
      "execution_count": 68,
      "outputs": []
    },
    {
      "cell_type": "code",
      "metadata": {
        "colab": {
          "base_uri": "https://localhost:8080/"
        },
        "id": "8oE8KuH_JQyG",
        "outputId": "64d1b0cf-2024-4a43-a208-946c09fd5e85"
      },
      "source": [
        "filepath = 'saved_models/model_epoch_{epoch:02d}.hdf5'\n",
        "#filepath = 'model_epoch_89.hdf5'\n",
        "\n",
        "\n",
        "checkpoint = ModelCheckpoint(filepath = filepath,\n",
        "                             monitor = 'val_loss',\n",
        "                             verbose = 1,\n",
        "                             save_best_only = True,\n",
        "                             mode ='min'\n",
        "                            )\n",
        "\n",
        "history = model.fit(X_train, Y_train, epochs = 100, batch_size = 20, validation_data = (X_test, Y_test), \n",
        "                    callbacks = [checkpoint], \n",
        "                    verbose = 1, shuffle = False)\n",
        "\n",
        "model.summary()"
      ],
      "execution_count": 69,
      "outputs": [
        {
          "output_type": "stream",
          "text": [
            "Epoch 1/100\n",
            "91/91 [==============================] - 2s 6ms/step - loss: 0.0035 - val_loss: 0.0017\n",
            "\n",
            "Epoch 00001: val_loss improved from inf to 0.00169, saving model to saved_models/model_epoch_01.hdf5\n",
            "Epoch 2/100\n",
            "91/91 [==============================] - 0s 3ms/step - loss: 0.0030 - val_loss: 0.0016\n",
            "\n",
            "Epoch 00002: val_loss improved from 0.00169 to 0.00164, saving model to saved_models/model_epoch_02.hdf5\n",
            "Epoch 3/100\n",
            "91/91 [==============================] - 0s 3ms/step - loss: 0.0015 - val_loss: 0.0014\n",
            "\n",
            "Epoch 00003: val_loss improved from 0.00164 to 0.00143, saving model to saved_models/model_epoch_03.hdf5\n",
            "Epoch 4/100\n",
            "91/91 [==============================] - 0s 3ms/step - loss: 0.0012 - val_loss: 0.0025\n",
            "\n",
            "Epoch 00004: val_loss did not improve from 0.00143\n",
            "Epoch 5/100\n",
            "91/91 [==============================] - 0s 3ms/step - loss: 0.0010 - val_loss: 0.0020\n",
            "\n",
            "Epoch 00005: val_loss did not improve from 0.00143\n",
            "Epoch 6/100\n",
            "91/91 [==============================] - 0s 3ms/step - loss: 0.0010 - val_loss: 0.0015\n",
            "\n",
            "Epoch 00006: val_loss did not improve from 0.00143\n",
            "Epoch 7/100\n",
            "91/91 [==============================] - 0s 3ms/step - loss: 0.0010 - val_loss: 0.0018\n",
            "\n",
            "Epoch 00007: val_loss did not improve from 0.00143\n",
            "Epoch 8/100\n",
            "91/91 [==============================] - 0s 3ms/step - loss: 9.0449e-04 - val_loss: 0.0015\n",
            "\n",
            "Epoch 00008: val_loss did not improve from 0.00143\n",
            "Epoch 9/100\n",
            "91/91 [==============================] - 0s 3ms/step - loss: 7.4746e-04 - val_loss: 0.0016\n",
            "\n",
            "Epoch 00009: val_loss did not improve from 0.00143\n",
            "Epoch 10/100\n",
            "91/91 [==============================] - 0s 3ms/step - loss: 7.5282e-04 - val_loss: 0.0018\n",
            "\n",
            "Epoch 00010: val_loss did not improve from 0.00143\n",
            "Epoch 11/100\n",
            "91/91 [==============================] - 0s 3ms/step - loss: 8.0166e-04 - val_loss: 0.0018\n",
            "\n",
            "Epoch 00011: val_loss did not improve from 0.00143\n",
            "Epoch 12/100\n",
            "91/91 [==============================] - 0s 3ms/step - loss: 8.9688e-04 - val_loss: 0.0017\n",
            "\n",
            "Epoch 00012: val_loss did not improve from 0.00143\n",
            "Epoch 13/100\n",
            "91/91 [==============================] - 0s 3ms/step - loss: 7.5526e-04 - val_loss: 0.0018\n",
            "\n",
            "Epoch 00013: val_loss did not improve from 0.00143\n",
            "Epoch 14/100\n",
            "91/91 [==============================] - 0s 3ms/step - loss: 8.0649e-04 - val_loss: 0.0017\n",
            "\n",
            "Epoch 00014: val_loss did not improve from 0.00143\n",
            "Epoch 15/100\n",
            "91/91 [==============================] - 0s 3ms/step - loss: 7.9275e-04 - val_loss: 0.0017\n",
            "\n",
            "Epoch 00015: val_loss did not improve from 0.00143\n",
            "Epoch 16/100\n",
            "91/91 [==============================] - 0s 3ms/step - loss: 7.3646e-04 - val_loss: 0.0015\n",
            "\n",
            "Epoch 00016: val_loss did not improve from 0.00143\n",
            "Epoch 17/100\n",
            "91/91 [==============================] - 0s 3ms/step - loss: 7.8055e-04 - val_loss: 0.0016\n",
            "\n",
            "Epoch 00017: val_loss did not improve from 0.00143\n",
            "Epoch 18/100\n",
            "91/91 [==============================] - 0s 3ms/step - loss: 8.3763e-04 - val_loss: 0.0015\n",
            "\n",
            "Epoch 00018: val_loss did not improve from 0.00143\n",
            "Epoch 19/100\n",
            "91/91 [==============================] - 0s 3ms/step - loss: 8.0186e-04 - val_loss: 0.0015\n",
            "\n",
            "Epoch 00019: val_loss did not improve from 0.00143\n",
            "Epoch 20/100\n",
            "91/91 [==============================] - 0s 3ms/step - loss: 7.7738e-04 - val_loss: 0.0016\n",
            "\n",
            "Epoch 00020: val_loss did not improve from 0.00143\n",
            "Epoch 21/100\n",
            "91/91 [==============================] - 0s 3ms/step - loss: 7.6768e-04 - val_loss: 0.0014\n",
            "\n",
            "Epoch 00021: val_loss improved from 0.00143 to 0.00142, saving model to saved_models/model_epoch_21.hdf5\n",
            "Epoch 22/100\n",
            "91/91 [==============================] - 0s 3ms/step - loss: 7.3385e-04 - val_loss: 0.0015\n",
            "\n",
            "Epoch 00022: val_loss did not improve from 0.00142\n",
            "Epoch 23/100\n",
            "91/91 [==============================] - 0s 3ms/step - loss: 8.6229e-04 - val_loss: 0.0015\n",
            "\n",
            "Epoch 00023: val_loss did not improve from 0.00142\n",
            "Epoch 24/100\n",
            "91/91 [==============================] - 0s 3ms/step - loss: 8.7738e-04 - val_loss: 0.0015\n",
            "\n",
            "Epoch 00024: val_loss did not improve from 0.00142\n",
            "Epoch 25/100\n",
            "91/91 [==============================] - 0s 3ms/step - loss: 8.0967e-04 - val_loss: 0.0014\n",
            "\n",
            "Epoch 00025: val_loss improved from 0.00142 to 0.00137, saving model to saved_models/model_epoch_25.hdf5\n",
            "Epoch 26/100\n",
            "91/91 [==============================] - 0s 3ms/step - loss: 7.6486e-04 - val_loss: 0.0013\n",
            "\n",
            "Epoch 00026: val_loss improved from 0.00137 to 0.00131, saving model to saved_models/model_epoch_26.hdf5\n",
            "Epoch 27/100\n",
            "91/91 [==============================] - 0s 4ms/step - loss: 7.6592e-04 - val_loss: 0.0012\n",
            "\n",
            "Epoch 00027: val_loss improved from 0.00131 to 0.00125, saving model to saved_models/model_epoch_27.hdf5\n",
            "Epoch 28/100\n",
            "91/91 [==============================] - 0s 3ms/step - loss: 7.4297e-04 - val_loss: 0.0013\n",
            "\n",
            "Epoch 00028: val_loss did not improve from 0.00125\n",
            "Epoch 29/100\n",
            "91/91 [==============================] - 0s 3ms/step - loss: 7.4888e-04 - val_loss: 0.0013\n",
            "\n",
            "Epoch 00029: val_loss did not improve from 0.00125\n",
            "Epoch 30/100\n",
            "91/91 [==============================] - 0s 3ms/step - loss: 8.5399e-04 - val_loss: 0.0015\n",
            "\n",
            "Epoch 00030: val_loss did not improve from 0.00125\n",
            "Epoch 31/100\n",
            "91/91 [==============================] - 0s 3ms/step - loss: 7.5496e-04 - val_loss: 0.0012\n",
            "\n",
            "Epoch 00031: val_loss improved from 0.00125 to 0.00123, saving model to saved_models/model_epoch_31.hdf5\n",
            "Epoch 32/100\n",
            "91/91 [==============================] - 0s 3ms/step - loss: 7.3914e-04 - val_loss: 0.0014\n",
            "\n",
            "Epoch 00032: val_loss did not improve from 0.00123\n",
            "Epoch 33/100\n",
            "91/91 [==============================] - 0s 3ms/step - loss: 8.2589e-04 - val_loss: 0.0011\n",
            "\n",
            "Epoch 00033: val_loss improved from 0.00123 to 0.00106, saving model to saved_models/model_epoch_33.hdf5\n",
            "Epoch 34/100\n",
            "91/91 [==============================] - 0s 3ms/step - loss: 6.8523e-04 - val_loss: 0.0012\n",
            "\n",
            "Epoch 00034: val_loss did not improve from 0.00106\n",
            "Epoch 35/100\n",
            "91/91 [==============================] - 0s 3ms/step - loss: 7.4900e-04 - val_loss: 0.0014\n",
            "\n",
            "Epoch 00035: val_loss did not improve from 0.00106\n",
            "Epoch 36/100\n",
            "91/91 [==============================] - 0s 3ms/step - loss: 7.9796e-04 - val_loss: 0.0012\n",
            "\n",
            "Epoch 00036: val_loss did not improve from 0.00106\n",
            "Epoch 37/100\n",
            "91/91 [==============================] - 0s 3ms/step - loss: 7.9906e-04 - val_loss: 0.0013\n",
            "\n",
            "Epoch 00037: val_loss did not improve from 0.00106\n",
            "Epoch 38/100\n",
            "91/91 [==============================] - 0s 3ms/step - loss: 7.1497e-04 - val_loss: 9.7870e-04\n",
            "\n",
            "Epoch 00038: val_loss improved from 0.00106 to 0.00098, saving model to saved_models/model_epoch_38.hdf5\n",
            "Epoch 39/100\n",
            "91/91 [==============================] - 0s 3ms/step - loss: 7.3467e-04 - val_loss: 0.0011\n",
            "\n",
            "Epoch 00039: val_loss did not improve from 0.00098\n",
            "Epoch 40/100\n",
            "91/91 [==============================] - 0s 3ms/step - loss: 7.8980e-04 - val_loss: 0.0011\n",
            "\n",
            "Epoch 00040: val_loss did not improve from 0.00098\n",
            "Epoch 41/100\n",
            "91/91 [==============================] - 0s 3ms/step - loss: 7.7619e-04 - val_loss: 0.0013\n",
            "\n",
            "Epoch 00041: val_loss did not improve from 0.00098\n",
            "Epoch 42/100\n",
            "91/91 [==============================] - 0s 3ms/step - loss: 7.7461e-04 - val_loss: 0.0016\n",
            "\n",
            "Epoch 00042: val_loss did not improve from 0.00098\n",
            "Epoch 43/100\n",
            "91/91 [==============================] - 0s 3ms/step - loss: 8.7801e-04 - val_loss: 0.0012\n",
            "\n",
            "Epoch 00043: val_loss did not improve from 0.00098\n",
            "Epoch 44/100\n",
            "91/91 [==============================] - 0s 3ms/step - loss: 7.7230e-04 - val_loss: 0.0012\n",
            "\n",
            "Epoch 00044: val_loss did not improve from 0.00098\n",
            "Epoch 45/100\n",
            "91/91 [==============================] - 0s 3ms/step - loss: 7.6428e-04 - val_loss: 0.0015\n",
            "\n",
            "Epoch 00045: val_loss did not improve from 0.00098\n",
            "Epoch 46/100\n",
            "91/91 [==============================] - 0s 3ms/step - loss: 7.6922e-04 - val_loss: 0.0013\n",
            "\n",
            "Epoch 00046: val_loss did not improve from 0.00098\n",
            "Epoch 47/100\n",
            "91/91 [==============================] - 0s 3ms/step - loss: 7.1320e-04 - val_loss: 9.1202e-04\n",
            "\n",
            "Epoch 00047: val_loss improved from 0.00098 to 0.00091, saving model to saved_models/model_epoch_47.hdf5\n",
            "Epoch 48/100\n",
            "91/91 [==============================] - 0s 3ms/step - loss: 7.2586e-04 - val_loss: 0.0011\n",
            "\n",
            "Epoch 00048: val_loss did not improve from 0.00091\n",
            "Epoch 49/100\n",
            "91/91 [==============================] - 0s 3ms/step - loss: 7.4743e-04 - val_loss: 8.9979e-04\n",
            "\n",
            "Epoch 00049: val_loss improved from 0.00091 to 0.00090, saving model to saved_models/model_epoch_49.hdf5\n",
            "Epoch 50/100\n",
            "91/91 [==============================] - 0s 3ms/step - loss: 6.4742e-04 - val_loss: 0.0012\n",
            "\n",
            "Epoch 00050: val_loss did not improve from 0.00090\n",
            "Epoch 51/100\n",
            "91/91 [==============================] - 0s 3ms/step - loss: 7.9252e-04 - val_loss: 0.0010\n",
            "\n",
            "Epoch 00051: val_loss did not improve from 0.00090\n",
            "Epoch 52/100\n",
            "91/91 [==============================] - 0s 3ms/step - loss: 6.7391e-04 - val_loss: 9.1835e-04\n",
            "\n",
            "Epoch 00052: val_loss did not improve from 0.00090\n",
            "Epoch 53/100\n",
            "91/91 [==============================] - 0s 3ms/step - loss: 7.7971e-04 - val_loss: 0.0011\n",
            "\n",
            "Epoch 00053: val_loss did not improve from 0.00090\n",
            "Epoch 54/100\n",
            "91/91 [==============================] - 0s 3ms/step - loss: 8.3918e-04 - val_loss: 0.0013\n",
            "\n",
            "Epoch 00054: val_loss did not improve from 0.00090\n",
            "Epoch 55/100\n",
            "91/91 [==============================] - 0s 3ms/step - loss: 8.7534e-04 - val_loss: 0.0012\n",
            "\n",
            "Epoch 00055: val_loss did not improve from 0.00090\n",
            "Epoch 56/100\n",
            "91/91 [==============================] - 0s 3ms/step - loss: 7.5455e-04 - val_loss: 0.0012\n",
            "\n",
            "Epoch 00056: val_loss did not improve from 0.00090\n",
            "Epoch 57/100\n",
            "91/91 [==============================] - 0s 3ms/step - loss: 7.9662e-04 - val_loss: 0.0011\n",
            "\n",
            "Epoch 00057: val_loss did not improve from 0.00090\n",
            "Epoch 58/100\n",
            "91/91 [==============================] - 0s 3ms/step - loss: 7.5184e-04 - val_loss: 8.4369e-04\n",
            "\n",
            "Epoch 00058: val_loss improved from 0.00090 to 0.00084, saving model to saved_models/model_epoch_58.hdf5\n",
            "Epoch 59/100\n",
            "91/91 [==============================] - 0s 3ms/step - loss: 7.1685e-04 - val_loss: 0.0012\n",
            "\n",
            "Epoch 00059: val_loss did not improve from 0.00084\n",
            "Epoch 60/100\n",
            "91/91 [==============================] - 0s 3ms/step - loss: 7.1978e-04 - val_loss: 9.4722e-04\n",
            "\n",
            "Epoch 00060: val_loss did not improve from 0.00084\n",
            "Epoch 61/100\n",
            "91/91 [==============================] - 0s 3ms/step - loss: 7.6889e-04 - val_loss: 0.0011\n",
            "\n",
            "Epoch 00061: val_loss did not improve from 0.00084\n",
            "Epoch 62/100\n",
            "91/91 [==============================] - 0s 3ms/step - loss: 8.2103e-04 - val_loss: 0.0011\n",
            "\n",
            "Epoch 00062: val_loss did not improve from 0.00084\n",
            "Epoch 63/100\n",
            "91/91 [==============================] - 0s 3ms/step - loss: 7.9347e-04 - val_loss: 0.0013\n",
            "\n",
            "Epoch 00063: val_loss did not improve from 0.00084\n",
            "Epoch 64/100\n",
            "91/91 [==============================] - 0s 3ms/step - loss: 8.2869e-04 - val_loss: 0.0015\n",
            "\n",
            "Epoch 00064: val_loss did not improve from 0.00084\n",
            "Epoch 65/100\n",
            "91/91 [==============================] - 0s 3ms/step - loss: 8.1851e-04 - val_loss: 9.8841e-04\n",
            "\n",
            "Epoch 00065: val_loss did not improve from 0.00084\n",
            "Epoch 66/100\n",
            "91/91 [==============================] - 0s 3ms/step - loss: 6.9646e-04 - val_loss: 0.0012\n",
            "\n",
            "Epoch 00066: val_loss did not improve from 0.00084\n",
            "Epoch 67/100\n",
            "91/91 [==============================] - 0s 3ms/step - loss: 7.7312e-04 - val_loss: 9.5283e-04\n",
            "\n",
            "Epoch 00067: val_loss did not improve from 0.00084\n",
            "Epoch 68/100\n",
            "91/91 [==============================] - 0s 3ms/step - loss: 7.3381e-04 - val_loss: 8.3100e-04\n",
            "\n",
            "Epoch 00068: val_loss improved from 0.00084 to 0.00083, saving model to saved_models/model_epoch_68.hdf5\n",
            "Epoch 69/100\n",
            "91/91 [==============================] - 0s 3ms/step - loss: 7.6753e-04 - val_loss: 9.1881e-04\n",
            "\n",
            "Epoch 00069: val_loss did not improve from 0.00083\n",
            "Epoch 70/100\n",
            "91/91 [==============================] - 0s 3ms/step - loss: 7.2827e-04 - val_loss: 0.0017\n",
            "\n",
            "Epoch 00070: val_loss did not improve from 0.00083\n",
            "Epoch 71/100\n",
            "91/91 [==============================] - 0s 3ms/step - loss: 7.5629e-04 - val_loss: 0.0015\n",
            "\n",
            "Epoch 00071: val_loss did not improve from 0.00083\n",
            "Epoch 72/100\n",
            "91/91 [==============================] - 0s 3ms/step - loss: 6.8363e-04 - val_loss: 8.5724e-04\n",
            "\n",
            "Epoch 00072: val_loss did not improve from 0.00083\n",
            "Epoch 73/100\n",
            "91/91 [==============================] - 0s 3ms/step - loss: 7.0885e-04 - val_loss: 0.0012\n",
            "\n",
            "Epoch 00073: val_loss did not improve from 0.00083\n",
            "Epoch 74/100\n",
            "91/91 [==============================] - 0s 3ms/step - loss: 7.4472e-04 - val_loss: 0.0013\n",
            "\n",
            "Epoch 00074: val_loss did not improve from 0.00083\n",
            "Epoch 75/100\n",
            "91/91 [==============================] - 0s 3ms/step - loss: 8.2722e-04 - val_loss: 0.0015\n",
            "\n",
            "Epoch 00075: val_loss did not improve from 0.00083\n",
            "Epoch 76/100\n",
            "91/91 [==============================] - 0s 3ms/step - loss: 7.4506e-04 - val_loss: 9.7171e-04\n",
            "\n",
            "Epoch 00076: val_loss did not improve from 0.00083\n",
            "Epoch 77/100\n",
            "91/91 [==============================] - 0s 3ms/step - loss: 7.6480e-04 - val_loss: 8.8712e-04\n",
            "\n",
            "Epoch 00077: val_loss did not improve from 0.00083\n",
            "Epoch 78/100\n",
            "91/91 [==============================] - 0s 3ms/step - loss: 7.2752e-04 - val_loss: 0.0016\n",
            "\n",
            "Epoch 00078: val_loss did not improve from 0.00083\n",
            "Epoch 79/100\n",
            "91/91 [==============================] - 0s 3ms/step - loss: 8.0156e-04 - val_loss: 0.0010\n",
            "\n",
            "Epoch 00079: val_loss did not improve from 0.00083\n",
            "Epoch 80/100\n",
            "91/91 [==============================] - 0s 3ms/step - loss: 6.8913e-04 - val_loss: 0.0011\n",
            "\n",
            "Epoch 00080: val_loss did not improve from 0.00083\n",
            "Epoch 81/100\n",
            "91/91 [==============================] - 0s 3ms/step - loss: 7.9288e-04 - val_loss: 0.0010\n",
            "\n",
            "Epoch 00081: val_loss did not improve from 0.00083\n",
            "Epoch 82/100\n",
            "91/91 [==============================] - 0s 3ms/step - loss: 8.0644e-04 - val_loss: 0.0017\n",
            "\n",
            "Epoch 00082: val_loss did not improve from 0.00083\n",
            "Epoch 83/100\n",
            "91/91 [==============================] - 0s 3ms/step - loss: 8.9190e-04 - val_loss: 0.0014\n",
            "\n",
            "Epoch 00083: val_loss did not improve from 0.00083\n",
            "Epoch 84/100\n",
            "91/91 [==============================] - 0s 3ms/step - loss: 8.6035e-04 - val_loss: 0.0013\n",
            "\n",
            "Epoch 00084: val_loss did not improve from 0.00083\n",
            "Epoch 85/100\n",
            "91/91 [==============================] - 0s 3ms/step - loss: 7.4788e-04 - val_loss: 0.0010\n",
            "\n",
            "Epoch 00085: val_loss did not improve from 0.00083\n",
            "Epoch 86/100\n",
            "91/91 [==============================] - 0s 3ms/step - loss: 7.8525e-04 - val_loss: 7.6157e-04\n",
            "\n",
            "Epoch 00086: val_loss improved from 0.00083 to 0.00076, saving model to saved_models/model_epoch_86.hdf5\n",
            "Epoch 87/100\n",
            "91/91 [==============================] - 0s 3ms/step - loss: 7.1472e-04 - val_loss: 0.0012\n",
            "\n",
            "Epoch 00087: val_loss did not improve from 0.00076\n",
            "Epoch 88/100\n",
            "91/91 [==============================] - 0s 3ms/step - loss: 7.7837e-04 - val_loss: 8.0337e-04\n",
            "\n",
            "Epoch 00088: val_loss did not improve from 0.00076\n",
            "Epoch 89/100\n",
            "91/91 [==============================] - 0s 3ms/step - loss: 7.1244e-04 - val_loss: 0.0013\n",
            "\n",
            "Epoch 00089: val_loss did not improve from 0.00076\n",
            "Epoch 90/100\n",
            "91/91 [==============================] - 0s 3ms/step - loss: 7.4429e-04 - val_loss: 9.3072e-04\n",
            "\n",
            "Epoch 00090: val_loss did not improve from 0.00076\n",
            "Epoch 91/100\n",
            "91/91 [==============================] - 0s 3ms/step - loss: 7.8914e-04 - val_loss: 0.0011\n",
            "\n",
            "Epoch 00091: val_loss did not improve from 0.00076\n",
            "Epoch 92/100\n",
            "91/91 [==============================] - 0s 3ms/step - loss: 7.5586e-04 - val_loss: 0.0011\n",
            "\n",
            "Epoch 00092: val_loss did not improve from 0.00076\n",
            "Epoch 93/100\n",
            "91/91 [==============================] - 0s 3ms/step - loss: 7.2832e-04 - val_loss: 7.4939e-04\n",
            "\n",
            "Epoch 00093: val_loss improved from 0.00076 to 0.00075, saving model to saved_models/model_epoch_93.hdf5\n",
            "Epoch 94/100\n",
            "91/91 [==============================] - 0s 3ms/step - loss: 6.8262e-04 - val_loss: 8.0269e-04\n",
            "\n",
            "Epoch 00094: val_loss did not improve from 0.00075\n",
            "Epoch 95/100\n",
            "91/91 [==============================] - 0s 3ms/step - loss: 7.1719e-04 - val_loss: 0.0014\n",
            "\n",
            "Epoch 00095: val_loss did not improve from 0.00075\n",
            "Epoch 96/100\n",
            "91/91 [==============================] - 0s 3ms/step - loss: 7.9737e-04 - val_loss: 9.0449e-04\n",
            "\n",
            "Epoch 00096: val_loss did not improve from 0.00075\n",
            "Epoch 97/100\n",
            "91/91 [==============================] - 0s 3ms/step - loss: 7.0629e-04 - val_loss: 0.0012\n",
            "\n",
            "Epoch 00097: val_loss did not improve from 0.00075\n",
            "Epoch 98/100\n",
            "91/91 [==============================] - 0s 3ms/step - loss: 7.2446e-04 - val_loss: 0.0010\n",
            "\n",
            "Epoch 00098: val_loss did not improve from 0.00075\n",
            "Epoch 99/100\n",
            "91/91 [==============================] - 0s 3ms/step - loss: 7.0052e-04 - val_loss: 0.0013\n",
            "\n",
            "Epoch 00099: val_loss did not improve from 0.00075\n",
            "Epoch 100/100\n",
            "91/91 [==============================] - 0s 3ms/step - loss: 7.9974e-04 - val_loss: 0.0015\n",
            "\n",
            "Epoch 00100: val_loss did not improve from 0.00075\n",
            "Model: \"sequential_3\"\n",
            "_________________________________________________________________\n",
            "Layer (type)                 Output Shape              Param #   \n",
            "=================================================================\n",
            "lstm_3 (LSTM)                (None, 50)                14200     \n",
            "_________________________________________________________________\n",
            "dropout_3 (Dropout)          (None, 50)                0         \n",
            "_________________________________________________________________\n",
            "dense_3 (Dense)              (None, 1)                 51        \n",
            "=================================================================\n",
            "Total params: 14,251\n",
            "Trainable params: 14,251\n",
            "Non-trainable params: 0\n",
            "_________________________________________________________________\n"
          ],
          "name": "stdout"
        }
      ]
    },
    {
      "cell_type": "markdown",
      "metadata": {
        "id": "cFNMguYQJQyH"
      },
      "source": [
        "## Why we chose the model at epoch 96\n",
        "The model at epoch 96 had the most similar training and validation losses, which implies that the model is not doing a lot of over or under fitting. As such, we load that model. "
      ]
    },
    {
      "cell_type": "code",
      "metadata": {
        "id": "UjESUDLkJQyH"
      },
      "source": [
        "from keras.models import load_model\n",
        "\n",
        "#best_model = load_model('saved_models/model_epoch_52.hdf5')\n",
        "best_model = load_model('saved_models/model_epoch_93.hdf5')\n",
        "\n",
        "#best_model = load_model('model_epoch_96.hdf5')\n",
        "\n",
        "# Predicting and inverse transforming the predictions\n",
        "Y_train_predict = best_model.predict(X_train)\n",
        "\n",
        "Y_hat_train = scaler.inverse_transform(Y_train_predict)\n",
        "\n",
        "Y_test_predict = best_model.predict(X_test)\n",
        "\n",
        "Y_hat_test = scaler.inverse_transform(Y_test_predict)\n",
        "\n",
        "# Inverse transforming the actual values, to return them to their original values\n",
        "Y_test = scaler.inverse_transform([Y_test])\n",
        "Y_train = scaler.inverse_transform([Y_train])"
      ],
      "execution_count": 70,
      "outputs": []
    },
    {
      "cell_type": "code",
      "metadata": {
        "id": "gDfADvSXbqH-"
      },
      "source": [
        "Y_hat_train = np.reshape(Y_hat_train, newshape = Y_hat_train.shape[0])\n",
        "Y_hat_test = np.reshape(Y_hat_test, newshape = Y_hat_test.shape[0])\n",
        "\n",
        "Y_train = np.reshape(Y_train, newshape = Y_train.shape[1])\n",
        "Y_test = np.reshape(Y_test, newshape = Y_test.shape[1])"
      ],
      "execution_count": 71,
      "outputs": []
    },
    {
      "cell_type": "code",
      "metadata": {
        "id": "BjvaqJbhJQyH",
        "colab": {
          "base_uri": "https://localhost:8080/",
          "height": 52
        },
        "outputId": "3ec17314-95f7-4616-e973-49f8b8c7cf92"
      },
      "source": [
        "\"\"\"\n",
        "Y_hat_train = np.reshape(Y_hat_train, newshape = 583)\n",
        "Y_hat_test = np.reshape(Y_hat_test, newshape = 131)\n",
        "\n",
        "Y_train = np.reshape(Y_train, newshape = 583)\n",
        "Y_test = np.reshape(Y_test, newshape = 131)\n",
        "\"\"\""
      ],
      "execution_count": 46,
      "outputs": [
        {
          "output_type": "execute_result",
          "data": {
            "application/vnd.google.colaboratory.intrinsic+json": {
              "type": "string"
            },
            "text/plain": [
              "'\\nY_hat_train = np.reshape(Y_hat_train, newshape = 583)\\nY_hat_test = np.reshape(Y_hat_test, newshape = 131)\\n\\nY_train = np.reshape(Y_train, newshape = 583)\\nY_test = np.reshape(Y_test, newshape = 131)\\n'"
            ]
          },
          "metadata": {
            "tags": []
          },
          "execution_count": 46
        }
      ]
    },
    {
      "cell_type": "code",
      "metadata": {
        "colab": {
          "base_uri": "https://localhost:8080/"
        },
        "id": "95S51KV5WsAK",
        "outputId": "2cf5802f-ded1-4f5b-ccf2-340ba8775eda"
      },
      "source": [
        "\"\"\"\n",
        "Y_hat_train.shape #(583,)\n",
        "Y_hat_test.shape#(583,)\n",
        "Y_train.shape #(583,)\n",
        "Y_test.shape #(583,)\n",
        "\"\"\""
      ],
      "execution_count": null,
      "outputs": [
        {
          "output_type": "execute_result",
          "data": {
            "text/plain": [
              "(131,)"
            ]
          },
          "metadata": {
            "tags": []
          },
          "execution_count": 93
        }
      ]
    },
    {
      "cell_type": "markdown",
      "metadata": {
        "id": "JBmeDfGlJQyH"
      },
      "source": [
        "# Evaluating Model Performance\n",
        "## Computing the RMSE for the training and testing sets"
      ]
    },
    {
      "cell_type": "code",
      "metadata": {
        "colab": {
          "base_uri": "https://localhost:8080/"
        },
        "id": "cukA7hM6JQyH",
        "outputId": "31c76110-9ec2-43bc-f9bf-a3299e254d08"
      },
      "source": [
        "from sklearn.metrics import mean_squared_error\n",
        "\n",
        "train_RMSE = np.sqrt(mean_squared_error(Y_train, Y_hat_train))\n",
        "\n",
        "test_RMSE = np.sqrt(mean_squared_error(Y_test, Y_hat_test))\n",
        "\n",
        "print('Train RMSE is: ')\n",
        "print(train_RMSE, '\\n')\n",
        "print('Test RMSE is: ')\n",
        "print(test_RMSE)"
      ],
      "execution_count": 72,
      "outputs": [
        {
          "output_type": "stream",
          "text": [
            "Train RMSE is: \n",
            "16.880676387366687 \n",
            "\n",
            "Test RMSE is: \n",
            "20.754951284363752\n"
          ],
          "name": "stdout"
        }
      ]
    },
    {
      "cell_type": "markdown",
      "metadata": {
        "id": "TOn1gDTCJQyI"
      },
      "source": [
        "## Visualizing the actual vs. predicted stock prices"
      ]
    },
    {
      "cell_type": "code",
      "metadata": {
        "id": "UXEiWuzwJQyI"
      },
      "source": [
        "Y = np.append(Y_train, Y_test)\n",
        "Y_hat = np.append(Y_hat_train, Y_hat_test)"
      ],
      "execution_count": 73,
      "outputs": []
    },
    {
      "cell_type": "code",
      "metadata": {
        "colab": {
          "base_uri": "https://localhost:8080/",
          "height": 204
        },
        "id": "xD8hBNmgJQyI",
        "outputId": "f007543d-03a3-46e7-fc15-87118db2ffec"
      },
      "source": [
        "result_df = pd.DataFrame()\n",
        "\n",
        "result_df['Actual_Y'] = Y\n",
        "result_df['Predicted_Y'] = Y_hat\n",
        "\n",
        "\n",
        "result_df.head()"
      ],
      "execution_count": 74,
      "outputs": [
        {
          "output_type": "execute_result",
          "data": {
            "text/html": [
              "<div>\n",
              "<style scoped>\n",
              "    .dataframe tbody tr th:only-of-type {\n",
              "        vertical-align: middle;\n",
              "    }\n",
              "\n",
              "    .dataframe tbody tr th {\n",
              "        vertical-align: top;\n",
              "    }\n",
              "\n",
              "    .dataframe thead th {\n",
              "        text-align: right;\n",
              "    }\n",
              "</style>\n",
              "<table border=\"1\" class=\"dataframe\">\n",
              "  <thead>\n",
              "    <tr style=\"text-align: right;\">\n",
              "      <th></th>\n",
              "      <th>Actual_Y</th>\n",
              "      <th>Predicted_Y</th>\n",
              "    </tr>\n",
              "  </thead>\n",
              "  <tbody>\n",
              "    <tr>\n",
              "      <th>0</th>\n",
              "      <td>23.910000</td>\n",
              "      <td>32.388020</td>\n",
              "    </tr>\n",
              "    <tr>\n",
              "      <th>1</th>\n",
              "      <td>23.940000</td>\n",
              "      <td>32.217640</td>\n",
              "    </tr>\n",
              "    <tr>\n",
              "      <th>2</th>\n",
              "      <td>23.630000</td>\n",
              "      <td>32.017433</td>\n",
              "    </tr>\n",
              "    <tr>\n",
              "      <th>3</th>\n",
              "      <td>23.459999</td>\n",
              "      <td>31.693136</td>\n",
              "    </tr>\n",
              "    <tr>\n",
              "      <th>4</th>\n",
              "      <td>23.070000</td>\n",
              "      <td>31.375940</td>\n",
              "    </tr>\n",
              "  </tbody>\n",
              "</table>\n",
              "</div>"
            ],
            "text/plain": [
              "    Actual_Y  Predicted_Y\n",
              "0  23.910000    32.388020\n",
              "1  23.940000    32.217640\n",
              "2  23.630000    32.017433\n",
              "3  23.459999    31.693136\n",
              "4  23.070000    31.375940"
            ]
          },
          "metadata": {
            "tags": []
          },
          "execution_count": 74
        }
      ]
    },
    {
      "cell_type": "code",
      "metadata": {
        "colab": {
          "base_uri": "https://localhost:8080/",
          "height": 282
        },
        "id": "_3xALvO9JQyI",
        "outputId": "031e4324-9e2b-4326-fea9-db024f4e822b"
      },
      "source": [
        "result_df.plot()"
      ],
      "execution_count": 75,
      "outputs": [
        {
          "output_type": "execute_result",
          "data": {
            "text/plain": [
              "<matplotlib.axes._subplots.AxesSubplot at 0x7f2f30326a10>"
            ]
          },
          "metadata": {
            "tags": []
          },
          "execution_count": 75
        },
        {
          "output_type": "display_data",
          "data": {
            "image/png": "[encoded data removed]",
            "text/plain": [
              "<Figure size 432x288 with 1 Axes>"
            ]
          },
          "metadata": {
            "tags": [],
            "needs_background": "light"
          }
        }
      ]
    },
    {
      "cell_type": "code",
      "metadata": {
        "id": "QnLXRUfYMk_D"
      },
      "source": [
        ""
      ],
      "execution_count": null,
      "outputs": []
    }
  ]
}